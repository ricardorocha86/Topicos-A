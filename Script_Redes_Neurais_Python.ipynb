{
  "nbformat": 4,
  "nbformat_minor": 0,
  "metadata": {
    "colab": {
      "name": "Script Redes Neurais Python.ipynb",
      "provenance": [],
      "collapsed_sections": [],
      "authorship_tag": "ABX9TyN9yfIVh8BhSFHStJuyJjrL",
      "include_colab_link": true
    },
    "kernelspec": {
      "name": "python3",
      "display_name": "Python 3"
    }
  },
  "cells": [
    {
      "cell_type": "markdown",
      "metadata": {
        "id": "view-in-github",
        "colab_type": "text"
      },
      "source": [
        "<a href=\"https://colab.research.google.com/github/ricardorocha86/Topicos-A/blob/main/Script_Redes_Neurais_Python.ipynb\" target=\"_parent\"><img src=\"https://colab.research.google.com/assets/colab-badge.svg\" alt=\"Open In Colab\"/></a>"
      ]
    },
    {
      "cell_type": "markdown",
      "metadata": {
        "id": "ZY_F-644IvMN"
      },
      "source": [
        "# **KERAS**"
      ]
    },
    {
      "cell_type": "code",
      "metadata": {
        "id": "9oKxCczvIo3a"
      },
      "source": [
        "# mlp for the circles problem with cross entropy loss\n",
        "from sklearn.datasets import make_circles\n",
        "from keras.models import Sequential\n",
        "from keras.layers import Dense \n",
        "from keras.optimizers import Adam \n",
        "from keras.callbacks import EarlyStopping   \n",
        "from keras.utils import plot_model \n",
        "from matplotlib import pyplot as plt\n",
        "import numpy as np"
      ],
      "execution_count": null,
      "outputs": []
    },
    {
      "cell_type": "code",
      "metadata": {
        "id": "Yyvrx8NDsG6g",
        "colab": {
          "base_uri": "https://localhost:8080/",
          "height": 265
        },
        "outputId": "d3c09e74-4a56-4f86-97e3-709a887006c4"
      },
      "source": [
        "# GERAÇÃO DE DADOS ARTIFICIAIS\n",
        "\n",
        "X, y = make_circles(n_samples = 1000, noise = 0.02, random_state = 1)\n",
        "\n",
        "for i in range(2):\n",
        "\testrato = np.where(y == i)\n",
        "\tplt.scatter(X[estrato, 0], X[estrato, 1], label = str(i))\n",
        "plt.legend()\n",
        "plt.show()"
      ],
      "execution_count": null,
      "outputs": [
        {
          "output_type": "display_data",
          "data": {
            "image/png": "[encoded data removed]",
            "text/plain": [
              "<Figure size 432x288 with 1 Axes>"
            ]
          },
          "metadata": {
            "tags": []
          }
        }
      ]
    },
    {
      "cell_type": "code",
      "metadata": {
        "id": "LXb4AOwtsNoH"
      },
      "source": [
        "# DIVISÃO EM TESTE E TREINAMENTO\n",
        "ntreino = 500\n",
        "\n",
        "Xtreino, Xteste = X[:ntreino, :], X[ntreino:, :]\n",
        "ytreino, yteste = y[:ntreino], y[ntreino:]"
      ],
      "execution_count": null,
      "outputs": []
    },
    {
      "cell_type": "code",
      "metadata": {
        "id": "eD_IuEPOtgLv"
      },
      "source": [
        "# FUNÇÕES DE ATIVAÇÕES NO KERAS: 'relu', 'sigmoid', 'softmax', 'tanh', 'selu, 'elu' "
      ],
      "execution_count": null,
      "outputs": []
    },
    {
      "cell_type": "code",
      "metadata": {
        "id": "rWDcKJCzs9Zd"
      },
      "source": [
        "# DEFININDO A ARQUITETURA DA REDE NEURAL\n",
        "\n",
        "modelo = Sequential()\n",
        "\n",
        "modelo.add(Dense(5, input_dim = 2, activation = 'tanh')) \n",
        "modelo.add(Dense(5, activation = 'sigmoid')) \n",
        "modelo.add(Dense(1, activation = 'sigmoid'))   \n",
        "\n",
        "alg = Adam(learning_rate = 0.01)\n",
        "\n",
        "modelo.compile(loss = 'binary_crossentropy', optimizer = alg, metrics = ['accuracy'])"
      ],
      "execution_count": null,
      "outputs": []
    },
    {
      "cell_type": "code",
      "metadata": {
        "id": "6i4VfSG8ww9v",
        "colab": {
          "base_uri": "https://localhost:8080/",
          "height": 297
        },
        "outputId": "2430d0c6-0829-4ee1-c2d0-2fe869cb6a9b"
      },
      "source": [
        "print(modelo.summary())"
      ],
      "execution_count": null,
      "outputs": [
        {
          "output_type": "stream",
          "text": [
            "Model: \"sequential_21\"\n",
            "_________________________________________________________________\n",
            "Layer (type)                 Output Shape              Param #   \n",
            "=================================================================\n",
            "dense_46 (Dense)             (None, 5)                 15        \n",
            "_________________________________________________________________\n",
            "dense_47 (Dense)             (None, 5)                 30        \n",
            "_________________________________________________________________\n",
            "dense_48 (Dense)             (None, 1)                 6         \n",
            "=================================================================\n",
            "Total params: 51\n",
            "Trainable params: 51\n",
            "Non-trainable params: 0\n",
            "_________________________________________________________________\n",
            "None\n"
          ],
          "name": "stdout"
        }
      ]
    },
    {
      "cell_type": "code",
      "metadata": {
        "id": "Zrz28YGss9AR",
        "colab": {
          "base_uri": "https://localhost:8080/",
          "height": 1000
        },
        "outputId": "a01c89cb-d6d4-48a4-f163-d79c25b39e18"
      },
      "source": [
        "# AJUSTE DO MODELO\n",
        "import time\n",
        "start = time.time() \n",
        "\n",
        "\n",
        "parada = EarlyStopping(monitor = 'loss', patience = 10)\n",
        "\n",
        "treinamento = modelo.fit(Xtreino, ytreino, validation_data = (Xteste, yteste), \n",
        "                     epochs = 1000, verbose = 1, batch_size = 32, callbacks = parada)\n",
        "\n",
        "\n",
        "end = time.time()\n",
        "print(end - start)"
      ],
      "execution_count": null,
      "outputs": [
        {
          "output_type": "stream",
          "text": [
            "Epoch 1/1000\n",
            "16/16 [==============================] - 0s 10ms/step - loss: 0.7078 - accuracy: 0.4520 - val_loss: 0.6962 - val_accuracy: 0.4680\n",
            "Epoch 2/1000\n",
            "16/16 [==============================] - 0s 3ms/step - loss: 0.6950 - accuracy: 0.4960 - val_loss: 0.6942 - val_accuracy: 0.5140\n",
            "Epoch 3/1000\n",
            "16/16 [==============================] - 0s 2ms/step - loss: 0.6940 - accuracy: 0.5080 - val_loss: 0.6959 - val_accuracy: 0.4660\n",
            "Epoch 4/1000\n",
            "16/16 [==============================] - 0s 3ms/step - loss: 0.6914 - accuracy: 0.5420 - val_loss: 0.6963 - val_accuracy: 0.4560\n",
            "Epoch 5/1000\n",
            "16/16 [==============================] - 0s 3ms/step - loss: 0.6916 - accuracy: 0.5340 - val_loss: 0.6975 - val_accuracy: 0.4580\n",
            "Epoch 6/1000\n",
            "16/16 [==============================] - 0s 3ms/step - loss: 0.6909 - accuracy: 0.5380 - val_loss: 0.6973 - val_accuracy: 0.4880\n",
            "Epoch 7/1000\n",
            "16/16 [==============================] - 0s 3ms/step - loss: 0.6905 - accuracy: 0.5340 - val_loss: 0.6973 - val_accuracy: 0.4580\n",
            "Epoch 8/1000\n",
            "16/16 [==============================] - 0s 3ms/step - loss: 0.6900 - accuracy: 0.5360 - val_loss: 0.6978 - val_accuracy: 0.4820\n",
            "Epoch 9/1000\n",
            "16/16 [==============================] - 0s 3ms/step - loss: 0.6924 - accuracy: 0.5080 - val_loss: 0.6985 - val_accuracy: 0.4560\n",
            "Epoch 10/1000\n",
            "16/16 [==============================] - 0s 3ms/step - loss: 0.6886 - accuracy: 0.5440 - val_loss: 0.6982 - val_accuracy: 0.4780\n",
            "Epoch 11/1000\n",
            "16/16 [==============================] - 0s 3ms/step - loss: 0.6890 - accuracy: 0.5420 - val_loss: 0.6975 - val_accuracy: 0.4900\n",
            "Epoch 12/1000\n",
            "16/16 [==============================] - 0s 3ms/step - loss: 0.6876 - accuracy: 0.5360 - val_loss: 0.6968 - val_accuracy: 0.4800\n",
            "Epoch 13/1000\n",
            "16/16 [==============================] - 0s 3ms/step - loss: 0.6865 - accuracy: 0.5440 - val_loss: 0.6963 - val_accuracy: 0.4840\n",
            "Epoch 14/1000\n",
            "16/16 [==============================] - 0s 3ms/step - loss: 0.6864 - accuracy: 0.5380 - val_loss: 0.6950 - val_accuracy: 0.4920\n",
            "Epoch 15/1000\n",
            "16/16 [==============================] - 0s 3ms/step - loss: 0.6852 - accuracy: 0.5480 - val_loss: 0.6939 - val_accuracy: 0.4860\n",
            "Epoch 16/1000\n",
            "16/16 [==============================] - 0s 3ms/step - loss: 0.6844 - accuracy: 0.5480 - val_loss: 0.6956 - val_accuracy: 0.4860\n",
            "Epoch 17/1000\n",
            "16/16 [==============================] - 0s 3ms/step - loss: 0.6858 - accuracy: 0.5360 - val_loss: 0.6938 - val_accuracy: 0.4980\n",
            "Epoch 18/1000\n",
            "16/16 [==============================] - 0s 3ms/step - loss: 0.6822 - accuracy: 0.5500 - val_loss: 0.6931 - val_accuracy: 0.5060\n",
            "Epoch 19/1000\n",
            "16/16 [==============================] - 0s 3ms/step - loss: 0.6802 - accuracy: 0.5540 - val_loss: 0.6912 - val_accuracy: 0.5300\n",
            "Epoch 20/1000\n",
            "16/16 [==============================] - 0s 3ms/step - loss: 0.6802 - accuracy: 0.5660 - val_loss: 0.6910 - val_accuracy: 0.5000\n",
            "Epoch 21/1000\n",
            "16/16 [==============================] - 0s 3ms/step - loss: 0.6790 - accuracy: 0.5540 - val_loss: 0.6883 - val_accuracy: 0.5060\n",
            "Epoch 22/1000\n",
            "16/16 [==============================] - 0s 3ms/step - loss: 0.6758 - accuracy: 0.5800 - val_loss: 0.6881 - val_accuracy: 0.5060\n",
            "Epoch 23/1000\n",
            "16/16 [==============================] - 0s 3ms/step - loss: 0.6741 - accuracy: 0.5500 - val_loss: 0.6877 - val_accuracy: 0.6180\n",
            "Epoch 24/1000\n",
            "16/16 [==============================] - 0s 3ms/step - loss: 0.6715 - accuracy: 0.6340 - val_loss: 0.6834 - val_accuracy: 0.6180\n",
            "Epoch 25/1000\n",
            "16/16 [==============================] - 0s 3ms/step - loss: 0.6690 - accuracy: 0.5900 - val_loss: 0.6825 - val_accuracy: 0.5440\n",
            "Epoch 26/1000\n",
            "16/16 [==============================] - 0s 3ms/step - loss: 0.6665 - accuracy: 0.6400 - val_loss: 0.6809 - val_accuracy: 0.5920\n",
            "Epoch 27/1000\n",
            "16/16 [==============================] - 0s 3ms/step - loss: 0.6636 - accuracy: 0.6420 - val_loss: 0.6778 - val_accuracy: 0.5900\n",
            "Epoch 28/1000\n",
            "16/16 [==============================] - 0s 3ms/step - loss: 0.6614 - accuracy: 0.6440 - val_loss: 0.6753 - val_accuracy: 0.6260\n",
            "Epoch 29/1000\n",
            "16/16 [==============================] - 0s 3ms/step - loss: 0.6579 - accuracy: 0.6580 - val_loss: 0.6741 - val_accuracy: 0.6200\n",
            "Epoch 30/1000\n",
            "16/16 [==============================] - 0s 3ms/step - loss: 0.6550 - accuracy: 0.6180 - val_loss: 0.6708 - val_accuracy: 0.5940\n",
            "Epoch 31/1000\n",
            "16/16 [==============================] - 0s 3ms/step - loss: 0.6495 - accuracy: 0.6640 - val_loss: 0.6658 - val_accuracy: 0.6200\n",
            "Epoch 32/1000\n",
            "16/16 [==============================] - 0s 3ms/step - loss: 0.6463 - accuracy: 0.6600 - val_loss: 0.6632 - val_accuracy: 0.5960\n",
            "Epoch 33/1000\n",
            "16/16 [==============================] - 0s 4ms/step - loss: 0.6426 - accuracy: 0.6740 - val_loss: 0.6582 - val_accuracy: 0.6280\n",
            "Epoch 34/1000\n",
            "16/16 [==============================] - 0s 3ms/step - loss: 0.6376 - accuracy: 0.6560 - val_loss: 0.6534 - val_accuracy: 0.6040\n",
            "Epoch 35/1000\n",
            "16/16 [==============================] - 0s 3ms/step - loss: 0.6318 - accuracy: 0.6840 - val_loss: 0.6517 - val_accuracy: 0.6980\n",
            "Epoch 36/1000\n",
            "16/16 [==============================] - 0s 3ms/step - loss: 0.6268 - accuracy: 0.7160 - val_loss: 0.6433 - val_accuracy: 0.6680\n",
            "Epoch 37/1000\n",
            "16/16 [==============================] - 0s 3ms/step - loss: 0.6210 - accuracy: 0.7220 - val_loss: 0.6376 - val_accuracy: 0.7500\n",
            "Epoch 38/1000\n",
            "16/16 [==============================] - 0s 3ms/step - loss: 0.6149 - accuracy: 0.7360 - val_loss: 0.6320 - val_accuracy: 0.7880\n",
            "Epoch 39/1000\n",
            "16/16 [==============================] - 0s 3ms/step - loss: 0.6080 - accuracy: 0.8380 - val_loss: 0.6236 - val_accuracy: 0.8240\n",
            "Epoch 40/1000\n",
            "16/16 [==============================] - 0s 3ms/step - loss: 0.5997 - accuracy: 0.8340 - val_loss: 0.6142 - val_accuracy: 0.8480\n",
            "Epoch 41/1000\n",
            "16/16 [==============================] - 0s 3ms/step - loss: 0.5922 - accuracy: 0.8260 - val_loss: 0.6072 - val_accuracy: 0.8440\n",
            "Epoch 42/1000\n",
            "16/16 [==============================] - 0s 3ms/step - loss: 0.5841 - accuracy: 0.8680 - val_loss: 0.5983 - val_accuracy: 0.8700\n",
            "Epoch 43/1000\n",
            "16/16 [==============================] - 0s 3ms/step - loss: 0.5743 - accuracy: 0.8480 - val_loss: 0.5915 - val_accuracy: 0.7920\n",
            "Epoch 44/1000\n",
            "16/16 [==============================] - 0s 3ms/step - loss: 0.5677 - accuracy: 0.8480 - val_loss: 0.5762 - val_accuracy: 0.8340\n",
            "Epoch 45/1000\n",
            "16/16 [==============================] - 0s 3ms/step - loss: 0.5557 - accuracy: 0.7760 - val_loss: 0.5661 - val_accuracy: 0.8640\n",
            "Epoch 46/1000\n",
            "16/16 [==============================] - 0s 3ms/step - loss: 0.5514 - accuracy: 0.8400 - val_loss: 0.5606 - val_accuracy: 0.7520\n",
            "Epoch 47/1000\n",
            "16/16 [==============================] - 0s 3ms/step - loss: 0.5351 - accuracy: 0.7940 - val_loss: 0.5460 - val_accuracy: 0.8420\n",
            "Epoch 48/1000\n",
            "16/16 [==============================] - 0s 3ms/step - loss: 0.5227 - accuracy: 0.8720 - val_loss: 0.5320 - val_accuracy: 0.8480\n",
            "Epoch 49/1000\n",
            "16/16 [==============================] - 0s 3ms/step - loss: 0.5156 - accuracy: 0.8240 - val_loss: 0.5255 - val_accuracy: 0.8420\n",
            "Epoch 50/1000\n",
            "16/16 [==============================] - 0s 3ms/step - loss: 0.5073 - accuracy: 0.8520 - val_loss: 0.5037 - val_accuracy: 0.8340\n",
            "Epoch 51/1000\n",
            "16/16 [==============================] - 0s 3ms/step - loss: 0.4904 - accuracy: 0.8700 - val_loss: 0.4961 - val_accuracy: 0.8600\n",
            "Epoch 52/1000\n",
            "16/16 [==============================] - 0s 3ms/step - loss: 0.4778 - accuracy: 0.8520 - val_loss: 0.4807 - val_accuracy: 0.8820\n",
            "Epoch 53/1000\n",
            "16/16 [==============================] - 0s 3ms/step - loss: 0.4683 - accuracy: 0.9100 - val_loss: 0.4783 - val_accuracy: 0.8540\n",
            "Epoch 54/1000\n",
            "16/16 [==============================] - 0s 3ms/step - loss: 0.4548 - accuracy: 0.9060 - val_loss: 0.4599 - val_accuracy: 0.9020\n",
            "Epoch 55/1000\n",
            "16/16 [==============================] - 0s 3ms/step - loss: 0.4425 - accuracy: 0.9180 - val_loss: 0.4464 - val_accuracy: 0.9140\n",
            "Epoch 56/1000\n",
            "16/16 [==============================] - 0s 3ms/step - loss: 0.4306 - accuracy: 0.9260 - val_loss: 0.4326 - val_accuracy: 0.9180\n",
            "Epoch 57/1000\n",
            "16/16 [==============================] - 0s 3ms/step - loss: 0.4215 - accuracy: 0.9020 - val_loss: 0.4251 - val_accuracy: 0.9180\n",
            "Epoch 58/1000\n",
            "16/16 [==============================] - 0s 3ms/step - loss: 0.4063 - accuracy: 0.9460 - val_loss: 0.4098 - val_accuracy: 0.9440\n",
            "Epoch 59/1000\n",
            "16/16 [==============================] - 0s 3ms/step - loss: 0.3957 - accuracy: 0.9500 - val_loss: 0.3967 - val_accuracy: 0.9520\n",
            "Epoch 60/1000\n",
            "16/16 [==============================] - 0s 3ms/step - loss: 0.3841 - accuracy: 0.9520 - val_loss: 0.3890 - val_accuracy: 0.9580\n",
            "Epoch 61/1000\n",
            "16/16 [==============================] - 0s 3ms/step - loss: 0.3730 - accuracy: 0.9580 - val_loss: 0.3765 - val_accuracy: 0.9560\n",
            "Epoch 62/1000\n",
            "16/16 [==============================] - 0s 3ms/step - loss: 0.3630 - accuracy: 0.9540 - val_loss: 0.3668 - val_accuracy: 0.9600\n",
            "Epoch 63/1000\n",
            "16/16 [==============================] - 0s 3ms/step - loss: 0.3555 - accuracy: 0.9640 - val_loss: 0.3520 - val_accuracy: 0.9660\n",
            "Epoch 64/1000\n",
            "16/16 [==============================] - 0s 3ms/step - loss: 0.3406 - accuracy: 0.9640 - val_loss: 0.3406 - val_accuracy: 0.9700\n",
            "Epoch 65/1000\n",
            "16/16 [==============================] - 0s 3ms/step - loss: 0.3274 - accuracy: 0.9660 - val_loss: 0.3294 - val_accuracy: 0.9740\n",
            "Epoch 66/1000\n",
            "16/16 [==============================] - 0s 3ms/step - loss: 0.3191 - accuracy: 0.9700 - val_loss: 0.3204 - val_accuracy: 0.9800\n",
            "Epoch 67/1000\n",
            "16/16 [==============================] - 0s 3ms/step - loss: 0.3079 - accuracy: 0.9780 - val_loss: 0.3089 - val_accuracy: 0.9780\n",
            "Epoch 68/1000\n",
            "16/16 [==============================] - 0s 3ms/step - loss: 0.2968 - accuracy: 0.9680 - val_loss: 0.3027 - val_accuracy: 0.9800\n",
            "Epoch 69/1000\n",
            "16/16 [==============================] - 0s 3ms/step - loss: 0.2873 - accuracy: 0.9820 - val_loss: 0.2904 - val_accuracy: 0.9760\n",
            "Epoch 70/1000\n",
            "16/16 [==============================] - 0s 3ms/step - loss: 0.2760 - accuracy: 0.9760 - val_loss: 0.2792 - val_accuracy: 0.9900\n",
            "Epoch 71/1000\n",
            "16/16 [==============================] - 0s 3ms/step - loss: 0.2670 - accuracy: 0.9860 - val_loss: 0.2725 - val_accuracy: 0.9800\n",
            "Epoch 72/1000\n",
            "16/16 [==============================] - 0s 3ms/step - loss: 0.2617 - accuracy: 0.9780 - val_loss: 0.2744 - val_accuracy: 0.9700\n",
            "Epoch 73/1000\n",
            "16/16 [==============================] - 0s 3ms/step - loss: 0.2543 - accuracy: 0.9780 - val_loss: 0.2545 - val_accuracy: 0.9800\n",
            "Epoch 74/1000\n",
            "16/16 [==============================] - 0s 3ms/step - loss: 0.2400 - accuracy: 0.9860 - val_loss: 0.2491 - val_accuracy: 0.9820\n",
            "Epoch 75/1000\n",
            "16/16 [==============================] - 0s 3ms/step - loss: 0.2328 - accuracy: 0.9860 - val_loss: 0.2351 - val_accuracy: 0.9960\n",
            "Epoch 76/1000\n",
            "16/16 [==============================] - 0s 3ms/step - loss: 0.2238 - accuracy: 0.9880 - val_loss: 0.2281 - val_accuracy: 0.9980\n",
            "Epoch 77/1000\n",
            "16/16 [==============================] - 0s 3ms/step - loss: 0.2194 - accuracy: 0.9860 - val_loss: 0.2202 - val_accuracy: 0.9980\n",
            "Epoch 78/1000\n",
            "16/16 [==============================] - 0s 3ms/step - loss: 0.2104 - accuracy: 0.9900 - val_loss: 0.2112 - val_accuracy: 0.9960\n",
            "Epoch 79/1000\n",
            "16/16 [==============================] - 0s 3ms/step - loss: 0.2041 - accuracy: 0.9860 - val_loss: 0.2038 - val_accuracy: 0.9960\n",
            "Epoch 80/1000\n",
            "16/16 [==============================] - 0s 3ms/step - loss: 0.1998 - accuracy: 0.9860 - val_loss: 0.1978 - val_accuracy: 0.9900\n",
            "Epoch 81/1000\n",
            "16/16 [==============================] - 0s 3ms/step - loss: 0.1878 - accuracy: 0.9940 - val_loss: 0.1961 - val_accuracy: 0.9960\n",
            "Epoch 82/1000\n",
            "16/16 [==============================] - 0s 3ms/step - loss: 0.1905 - accuracy: 0.9880 - val_loss: 0.1939 - val_accuracy: 0.9880\n",
            "Epoch 83/1000\n",
            "16/16 [==============================] - 0s 3ms/step - loss: 0.1966 - accuracy: 0.9640 - val_loss: 0.1872 - val_accuracy: 0.9840\n",
            "Epoch 84/1000\n",
            "16/16 [==============================] - 0s 3ms/step - loss: 0.1729 - accuracy: 0.9920 - val_loss: 0.1741 - val_accuracy: 0.9980\n",
            "Epoch 85/1000\n",
            "16/16 [==============================] - 0s 3ms/step - loss: 0.1653 - accuracy: 0.9920 - val_loss: 0.1661 - val_accuracy: 0.9980\n",
            "Epoch 86/1000\n",
            "16/16 [==============================] - 0s 3ms/step - loss: 0.1610 - accuracy: 0.9940 - val_loss: 0.1758 - val_accuracy: 0.9940\n",
            "Epoch 87/1000\n",
            "16/16 [==============================] - 0s 3ms/step - loss: 0.1680 - accuracy: 0.9800 - val_loss: 0.1781 - val_accuracy: 0.9760\n",
            "Epoch 88/1000\n",
            "16/16 [==============================] - 0s 3ms/step - loss: 0.1678 - accuracy: 0.9780 - val_loss: 0.1553 - val_accuracy: 0.9980\n",
            "Epoch 89/1000\n",
            "16/16 [==============================] - 0s 3ms/step - loss: 0.1516 - accuracy: 0.9920 - val_loss: 0.1534 - val_accuracy: 0.9960\n",
            "Epoch 90/1000\n",
            "16/16 [==============================] - 0s 3ms/step - loss: 0.1457 - accuracy: 0.9940 - val_loss: 0.1528 - val_accuracy: 0.9960\n",
            "Epoch 91/1000\n",
            "16/16 [==============================] - 0s 3ms/step - loss: 0.1401 - accuracy: 0.9940 - val_loss: 0.1406 - val_accuracy: 0.9980\n",
            "Epoch 92/1000\n",
            "16/16 [==============================] - 0s 3ms/step - loss: 0.1332 - accuracy: 0.9920 - val_loss: 0.1342 - val_accuracy: 0.9980\n",
            "Epoch 93/1000\n",
            "16/16 [==============================] - 0s 3ms/step - loss: 0.1291 - accuracy: 0.9940 - val_loss: 0.1312 - val_accuracy: 0.9980\n",
            "Epoch 94/1000\n",
            "16/16 [==============================] - 0s 3ms/step - loss: 0.1267 - accuracy: 0.9940 - val_loss: 0.1306 - val_accuracy: 0.9980\n",
            "Epoch 95/1000\n",
            "16/16 [==============================] - 0s 3ms/step - loss: 0.1222 - accuracy: 0.9940 - val_loss: 0.1255 - val_accuracy: 0.9980\n",
            "Epoch 96/1000\n",
            "16/16 [==============================] - 0s 3ms/step - loss: 0.1184 - accuracy: 0.9980 - val_loss: 0.1221 - val_accuracy: 0.9980\n",
            "Epoch 97/1000\n",
            "16/16 [==============================] - 0s 3ms/step - loss: 0.1143 - accuracy: 0.9960 - val_loss: 0.1157 - val_accuracy: 0.9980\n",
            "Epoch 98/1000\n",
            "16/16 [==============================] - 0s 3ms/step - loss: 0.1112 - accuracy: 0.9960 - val_loss: 0.1123 - val_accuracy: 0.9980\n",
            "Epoch 99/1000\n",
            "16/16 [==============================] - 0s 3ms/step - loss: 0.1105 - accuracy: 0.9940 - val_loss: 0.1144 - val_accuracy: 0.9980\n",
            "Epoch 100/1000\n",
            "16/16 [==============================] - 0s 3ms/step - loss: 0.1081 - accuracy: 0.9920 - val_loss: 0.1092 - val_accuracy: 1.0000\n",
            "Epoch 101/1000\n",
            "16/16 [==============================] - 0s 3ms/step - loss: 0.1060 - accuracy: 0.9900 - val_loss: 0.1063 - val_accuracy: 0.9980\n",
            "Epoch 102/1000\n",
            "16/16 [==============================] - 0s 3ms/step - loss: 0.1020 - accuracy: 0.9980 - val_loss: 0.1013 - val_accuracy: 0.9980\n",
            "Epoch 103/1000\n",
            "16/16 [==============================] - 0s 3ms/step - loss: 0.1007 - accuracy: 0.9960 - val_loss: 0.1045 - val_accuracy: 0.9980\n",
            "Epoch 104/1000\n",
            "16/16 [==============================] - 0s 3ms/step - loss: 0.0995 - accuracy: 1.0000 - val_loss: 0.0953 - val_accuracy: 0.9980\n",
            "Epoch 105/1000\n",
            "16/16 [==============================] - 0s 3ms/step - loss: 0.0930 - accuracy: 0.9980 - val_loss: 0.0931 - val_accuracy: 0.9980\n",
            "Epoch 106/1000\n",
            "16/16 [==============================] - 0s 3ms/step - loss: 0.0915 - accuracy: 0.9960 - val_loss: 0.0925 - val_accuracy: 0.9980\n",
            "Epoch 107/1000\n",
            "16/16 [==============================] - 0s 3ms/step - loss: 0.0886 - accuracy: 0.9980 - val_loss: 0.0886 - val_accuracy: 0.9980\n",
            "Epoch 108/1000\n",
            "16/16 [==============================] - 0s 4ms/step - loss: 0.0896 - accuracy: 0.9940 - val_loss: 0.0877 - val_accuracy: 0.9980\n",
            "Epoch 109/1000\n",
            "16/16 [==============================] - 0s 3ms/step - loss: 0.0852 - accuracy: 0.9960 - val_loss: 0.0845 - val_accuracy: 0.9980\n",
            "Epoch 110/1000\n",
            "16/16 [==============================] - 0s 3ms/step - loss: 0.0831 - accuracy: 0.9980 - val_loss: 0.0829 - val_accuracy: 0.9980\n",
            "Epoch 111/1000\n",
            "16/16 [==============================] - 0s 3ms/step - loss: 0.0800 - accuracy: 0.9980 - val_loss: 0.0799 - val_accuracy: 0.9980\n",
            "Epoch 112/1000\n",
            "16/16 [==============================] - 0s 3ms/step - loss: 0.0781 - accuracy: 0.9980 - val_loss: 0.0784 - val_accuracy: 0.9980\n",
            "Epoch 113/1000\n",
            "16/16 [==============================] - 0s 3ms/step - loss: 0.0765 - accuracy: 0.9980 - val_loss: 0.0792 - val_accuracy: 0.9980\n",
            "Epoch 114/1000\n",
            "16/16 [==============================] - 0s 3ms/step - loss: 0.0762 - accuracy: 0.9980 - val_loss: 0.0753 - val_accuracy: 0.9980\n",
            "Epoch 115/1000\n",
            "16/16 [==============================] - 0s 3ms/step - loss: 0.0736 - accuracy: 0.9960 - val_loss: 0.0730 - val_accuracy: 0.9980\n",
            "Epoch 116/1000\n",
            "16/16 [==============================] - 0s 4ms/step - loss: 0.0723 - accuracy: 0.9980 - val_loss: 0.0718 - val_accuracy: 0.9980\n",
            "Epoch 117/1000\n",
            "16/16 [==============================] - 0s 3ms/step - loss: 0.0715 - accuracy: 1.0000 - val_loss: 0.0713 - val_accuracy: 0.9980\n",
            "Epoch 118/1000\n",
            "16/16 [==============================] - 0s 3ms/step - loss: 0.0690 - accuracy: 0.9960 - val_loss: 0.0738 - val_accuracy: 1.0000\n",
            "Epoch 119/1000\n",
            "16/16 [==============================] - 0s 3ms/step - loss: 0.0705 - accuracy: 1.0000 - val_loss: 0.0670 - val_accuracy: 0.9980\n",
            "Epoch 120/1000\n",
            "16/16 [==============================] - 0s 3ms/step - loss: 0.0641 - accuracy: 1.0000 - val_loss: 0.0712 - val_accuracy: 1.0000\n",
            "Epoch 121/1000\n",
            "16/16 [==============================] - 0s 3ms/step - loss: 0.0665 - accuracy: 0.9980 - val_loss: 0.0634 - val_accuracy: 0.9980\n",
            "Epoch 122/1000\n",
            "16/16 [==============================] - 0s 3ms/step - loss: 0.0643 - accuracy: 0.9980 - val_loss: 0.0652 - val_accuracy: 1.0000\n",
            "Epoch 123/1000\n",
            "16/16 [==============================] - 0s 4ms/step - loss: 0.0622 - accuracy: 0.9980 - val_loss: 0.0624 - val_accuracy: 1.0000\n",
            "Epoch 124/1000\n",
            "16/16 [==============================] - 0s 3ms/step - loss: 0.0606 - accuracy: 0.9980 - val_loss: 0.0609 - val_accuracy: 0.9980\n",
            "Epoch 125/1000\n",
            "16/16 [==============================] - 0s 3ms/step - loss: 0.0595 - accuracy: 0.9980 - val_loss: 0.0587 - val_accuracy: 0.9980\n",
            "Epoch 126/1000\n",
            "16/16 [==============================] - 0s 3ms/step - loss: 0.0579 - accuracy: 0.9980 - val_loss: 0.0661 - val_accuracy: 0.9980\n",
            "Epoch 127/1000\n",
            "16/16 [==============================] - 0s 3ms/step - loss: 0.0621 - accuracy: 0.9980 - val_loss: 0.0603 - val_accuracy: 0.9980\n",
            "Epoch 128/1000\n",
            "16/16 [==============================] - 0s 3ms/step - loss: 0.0569 - accuracy: 1.0000 - val_loss: 0.0555 - val_accuracy: 0.9980\n",
            "Epoch 129/1000\n",
            "16/16 [==============================] - 0s 3ms/step - loss: 0.0554 - accuracy: 0.9960 - val_loss: 0.0572 - val_accuracy: 1.0000\n",
            "Epoch 130/1000\n",
            "16/16 [==============================] - 0s 3ms/step - loss: 0.0562 - accuracy: 1.0000 - val_loss: 0.0550 - val_accuracy: 0.9980\n",
            "Epoch 131/1000\n",
            "16/16 [==============================] - 0s 3ms/step - loss: 0.0526 - accuracy: 0.9980 - val_loss: 0.0514 - val_accuracy: 1.0000\n",
            "Epoch 132/1000\n",
            "16/16 [==============================] - 0s 3ms/step - loss: 0.0508 - accuracy: 1.0000 - val_loss: 0.0512 - val_accuracy: 0.9980\n",
            "Epoch 133/1000\n",
            "16/16 [==============================] - 0s 3ms/step - loss: 0.0502 - accuracy: 1.0000 - val_loss: 0.0489 - val_accuracy: 0.9980\n",
            "Epoch 134/1000\n",
            "16/16 [==============================] - 0s 3ms/step - loss: 0.0488 - accuracy: 1.0000 - val_loss: 0.0492 - val_accuracy: 0.9980\n",
            "Epoch 135/1000\n",
            "16/16 [==============================] - 0s 3ms/step - loss: 0.0470 - accuracy: 1.0000 - val_loss: 0.0471 - val_accuracy: 0.9980\n",
            "Epoch 136/1000\n",
            "16/16 [==============================] - 0s 3ms/step - loss: 0.0469 - accuracy: 1.0000 - val_loss: 0.0465 - val_accuracy: 1.0000\n",
            "Epoch 137/1000\n",
            "16/16 [==============================] - 0s 3ms/step - loss: 0.0452 - accuracy: 1.0000 - val_loss: 0.0449 - val_accuracy: 0.9980\n",
            "Epoch 138/1000\n",
            "16/16 [==============================] - 0s 3ms/step - loss: 0.0461 - accuracy: 1.0000 - val_loss: 0.0448 - val_accuracy: 0.9980\n",
            "Epoch 139/1000\n",
            "16/16 [==============================] - 0s 3ms/step - loss: 0.0439 - accuracy: 1.0000 - val_loss: 0.0437 - val_accuracy: 0.9980\n",
            "Epoch 140/1000\n",
            "16/16 [==============================] - 0s 3ms/step - loss: 0.0430 - accuracy: 1.0000 - val_loss: 0.0440 - val_accuracy: 1.0000\n",
            "Epoch 141/1000\n",
            "16/16 [==============================] - 0s 3ms/step - loss: 0.0433 - accuracy: 1.0000 - val_loss: 0.0416 - val_accuracy: 1.0000\n",
            "Epoch 142/1000\n",
            "16/16 [==============================] - 0s 4ms/step - loss: 0.0418 - accuracy: 1.0000 - val_loss: 0.0428 - val_accuracy: 1.0000\n",
            "Epoch 143/1000\n",
            "16/16 [==============================] - 0s 3ms/step - loss: 0.0432 - accuracy: 0.9980 - val_loss: 0.0425 - val_accuracy: 1.0000\n",
            "Epoch 144/1000\n",
            "16/16 [==============================] - 0s 3ms/step - loss: 0.0407 - accuracy: 0.9980 - val_loss: 0.0398 - val_accuracy: 0.9980\n",
            "Epoch 145/1000\n",
            "16/16 [==============================] - 0s 3ms/step - loss: 0.0394 - accuracy: 1.0000 - val_loss: 0.0389 - val_accuracy: 0.9980\n",
            "Epoch 146/1000\n",
            "16/16 [==============================] - 0s 3ms/step - loss: 0.0386 - accuracy: 1.0000 - val_loss: 0.0391 - val_accuracy: 1.0000\n",
            "Epoch 147/1000\n",
            "16/16 [==============================] - 0s 3ms/step - loss: 0.0397 - accuracy: 1.0000 - val_loss: 0.0380 - val_accuracy: 0.9980\n",
            "Epoch 148/1000\n",
            "16/16 [==============================] - 0s 3ms/step - loss: 0.0384 - accuracy: 1.0000 - val_loss: 0.0381 - val_accuracy: 1.0000\n",
            "Epoch 149/1000\n",
            "16/16 [==============================] - 0s 3ms/step - loss: 0.0367 - accuracy: 1.0000 - val_loss: 0.0365 - val_accuracy: 0.9980\n",
            "Epoch 150/1000\n",
            "16/16 [==============================] - 0s 3ms/step - loss: 0.0352 - accuracy: 1.0000 - val_loss: 0.0356 - val_accuracy: 1.0000\n",
            "Epoch 151/1000\n",
            "16/16 [==============================] - 0s 3ms/step - loss: 0.0368 - accuracy: 0.9980 - val_loss: 0.0358 - val_accuracy: 0.9980\n",
            "Epoch 152/1000\n",
            "16/16 [==============================] - 0s 3ms/step - loss: 0.0354 - accuracy: 1.0000 - val_loss: 0.0359 - val_accuracy: 0.9980\n",
            "Epoch 153/1000\n",
            "16/16 [==============================] - 0s 3ms/step - loss: 0.0385 - accuracy: 1.0000 - val_loss: 0.0355 - val_accuracy: 1.0000\n",
            "Epoch 154/1000\n",
            "16/16 [==============================] - 0s 3ms/step - loss: 0.0349 - accuracy: 1.0000 - val_loss: 0.0359 - val_accuracy: 0.9980\n",
            "Epoch 155/1000\n",
            "16/16 [==============================] - 0s 3ms/step - loss: 0.0340 - accuracy: 1.0000 - val_loss: 0.0333 - val_accuracy: 1.0000\n",
            "Epoch 156/1000\n",
            "16/16 [==============================] - 0s 3ms/step - loss: 0.0322 - accuracy: 1.0000 - val_loss: 0.0319 - val_accuracy: 1.0000\n",
            "Epoch 157/1000\n",
            "16/16 [==============================] - 0s 3ms/step - loss: 0.0315 - accuracy: 1.0000 - val_loss: 0.0320 - val_accuracy: 0.9980\n",
            "Epoch 158/1000\n",
            "16/16 [==============================] - 0s 3ms/step - loss: 0.0311 - accuracy: 1.0000 - val_loss: 0.0307 - val_accuracy: 0.9980\n",
            "Epoch 159/1000\n",
            "16/16 [==============================] - 0s 3ms/step - loss: 0.0314 - accuracy: 1.0000 - val_loss: 0.0306 - val_accuracy: 1.0000\n",
            "Epoch 160/1000\n",
            "16/16 [==============================] - 0s 3ms/step - loss: 0.0310 - accuracy: 1.0000 - val_loss: 0.0338 - val_accuracy: 1.0000\n",
            "Epoch 161/1000\n",
            "16/16 [==============================] - 0s 3ms/step - loss: 0.0305 - accuracy: 1.0000 - val_loss: 0.0293 - val_accuracy: 0.9980\n",
            "Epoch 162/1000\n",
            "16/16 [==============================] - 0s 3ms/step - loss: 0.0305 - accuracy: 1.0000 - val_loss: 0.0306 - val_accuracy: 1.0000\n",
            "Epoch 163/1000\n",
            "16/16 [==============================] - 0s 3ms/step - loss: 0.0307 - accuracy: 1.0000 - val_loss: 0.0286 - val_accuracy: 1.0000\n",
            "Epoch 164/1000\n",
            "16/16 [==============================] - 0s 3ms/step - loss: 0.0295 - accuracy: 1.0000 - val_loss: 0.0306 - val_accuracy: 0.9980\n",
            "Epoch 165/1000\n",
            "16/16 [==============================] - 0s 3ms/step - loss: 0.0311 - accuracy: 1.0000 - val_loss: 0.0275 - val_accuracy: 1.0000\n",
            "Epoch 166/1000\n",
            "16/16 [==============================] - 0s 4ms/step - loss: 0.0280 - accuracy: 1.0000 - val_loss: 0.0277 - val_accuracy: 0.9980\n",
            "Epoch 167/1000\n",
            "16/16 [==============================] - 0s 4ms/step - loss: 0.0268 - accuracy: 1.0000 - val_loss: 0.0269 - val_accuracy: 1.0000\n",
            "Epoch 168/1000\n",
            "16/16 [==============================] - 0s 4ms/step - loss: 0.0270 - accuracy: 1.0000 - val_loss: 0.0261 - val_accuracy: 0.9980\n",
            "Epoch 169/1000\n",
            "16/16 [==============================] - 0s 3ms/step - loss: 0.0260 - accuracy: 1.0000 - val_loss: 0.0265 - val_accuracy: 1.0000\n",
            "Epoch 170/1000\n",
            "16/16 [==============================] - 0s 3ms/step - loss: 0.0257 - accuracy: 1.0000 - val_loss: 0.0252 - val_accuracy: 1.0000\n",
            "Epoch 171/1000\n",
            "16/16 [==============================] - 0s 3ms/step - loss: 0.0249 - accuracy: 1.0000 - val_loss: 0.0253 - val_accuracy: 1.0000\n",
            "Epoch 172/1000\n",
            "16/16 [==============================] - 0s 3ms/step - loss: 0.0251 - accuracy: 1.0000 - val_loss: 0.0247 - val_accuracy: 0.9980\n",
            "Epoch 173/1000\n",
            "16/16 [==============================] - 0s 3ms/step - loss: 0.0254 - accuracy: 1.0000 - val_loss: 0.0258 - val_accuracy: 1.0000\n",
            "Epoch 174/1000\n",
            "16/16 [==============================] - 0s 3ms/step - loss: 0.0250 - accuracy: 1.0000 - val_loss: 0.0253 - val_accuracy: 1.0000\n",
            "Epoch 175/1000\n",
            "16/16 [==============================] - 0s 3ms/step - loss: 0.0241 - accuracy: 1.0000 - val_loss: 0.0237 - val_accuracy: 1.0000\n",
            "Epoch 176/1000\n",
            "16/16 [==============================] - 0s 3ms/step - loss: 0.0236 - accuracy: 1.0000 - val_loss: 0.0243 - val_accuracy: 1.0000\n",
            "Epoch 177/1000\n",
            "16/16 [==============================] - 0s 3ms/step - loss: 0.0249 - accuracy: 1.0000 - val_loss: 0.0238 - val_accuracy: 0.9980\n",
            "Epoch 178/1000\n",
            "16/16 [==============================] - 0s 3ms/step - loss: 0.0238 - accuracy: 1.0000 - val_loss: 0.0235 - val_accuracy: 1.0000\n",
            "Epoch 179/1000\n",
            "16/16 [==============================] - 0s 3ms/step - loss: 0.0230 - accuracy: 1.0000 - val_loss: 0.0224 - val_accuracy: 1.0000\n",
            "Epoch 180/1000\n",
            "16/16 [==============================] - 0s 3ms/step - loss: 0.0220 - accuracy: 1.0000 - val_loss: 0.0220 - val_accuracy: 1.0000\n",
            "Epoch 181/1000\n",
            "16/16 [==============================] - 0s 3ms/step - loss: 0.0216 - accuracy: 1.0000 - val_loss: 0.0220 - val_accuracy: 1.0000\n",
            "Epoch 182/1000\n",
            "16/16 [==============================] - 0s 4ms/step - loss: 0.0222 - accuracy: 1.0000 - val_loss: 0.0213 - val_accuracy: 0.9980\n",
            "Epoch 183/1000\n",
            "16/16 [==============================] - 0s 4ms/step - loss: 0.0206 - accuracy: 1.0000 - val_loss: 0.0218 - val_accuracy: 1.0000\n",
            "Epoch 184/1000\n",
            "16/16 [==============================] - 0s 3ms/step - loss: 0.0208 - accuracy: 1.0000 - val_loss: 0.0206 - val_accuracy: 1.0000\n",
            "Epoch 185/1000\n",
            "16/16 [==============================] - 0s 3ms/step - loss: 0.0209 - accuracy: 1.0000 - val_loss: 0.0207 - val_accuracy: 1.0000\n",
            "Epoch 186/1000\n",
            "16/16 [==============================] - 0s 4ms/step - loss: 0.0201 - accuracy: 1.0000 - val_loss: 0.0207 - val_accuracy: 0.9980\n",
            "Epoch 187/1000\n",
            "16/16 [==============================] - 0s 3ms/step - loss: 0.0207 - accuracy: 1.0000 - val_loss: 0.0199 - val_accuracy: 1.0000\n",
            "Epoch 188/1000\n",
            "16/16 [==============================] - 0s 3ms/step - loss: 0.0205 - accuracy: 1.0000 - val_loss: 0.0196 - val_accuracy: 1.0000\n",
            "Epoch 189/1000\n",
            "16/16 [==============================] - 0s 3ms/step - loss: 0.0198 - accuracy: 1.0000 - val_loss: 0.0207 - val_accuracy: 1.0000\n",
            "Epoch 190/1000\n",
            "16/16 [==============================] - 0s 3ms/step - loss: 0.0204 - accuracy: 1.0000 - val_loss: 0.0195 - val_accuracy: 1.0000\n",
            "Epoch 191/1000\n",
            "16/16 [==============================] - 0s 3ms/step - loss: 0.0191 - accuracy: 1.0000 - val_loss: 0.0189 - val_accuracy: 0.9980\n",
            "Epoch 192/1000\n",
            "16/16 [==============================] - 0s 3ms/step - loss: 0.0192 - accuracy: 1.0000 - val_loss: 0.0188 - val_accuracy: 1.0000\n",
            "Epoch 193/1000\n",
            "16/16 [==============================] - 0s 3ms/step - loss: 0.0188 - accuracy: 1.0000 - val_loss: 0.0182 - val_accuracy: 0.9980\n",
            "Epoch 194/1000\n",
            "16/16 [==============================] - 0s 3ms/step - loss: 0.0186 - accuracy: 1.0000 - val_loss: 0.0186 - val_accuracy: 1.0000\n",
            "Epoch 195/1000\n",
            "16/16 [==============================] - 0s 3ms/step - loss: 0.0179 - accuracy: 1.0000 - val_loss: 0.0181 - val_accuracy: 0.9980\n",
            "Epoch 196/1000\n",
            "16/16 [==============================] - 0s 3ms/step - loss: 0.0177 - accuracy: 1.0000 - val_loss: 0.0196 - val_accuracy: 1.0000\n",
            "Epoch 197/1000\n",
            "16/16 [==============================] - 0s 3ms/step - loss: 0.0179 - accuracy: 1.0000 - val_loss: 0.0175 - val_accuracy: 1.0000\n",
            "Epoch 198/1000\n",
            "16/16 [==============================] - 0s 4ms/step - loss: 0.0174 - accuracy: 1.0000 - val_loss: 0.0175 - val_accuracy: 1.0000\n",
            "Epoch 199/1000\n",
            "16/16 [==============================] - 0s 3ms/step - loss: 0.0166 - accuracy: 1.0000 - val_loss: 0.0170 - val_accuracy: 1.0000\n",
            "Epoch 200/1000\n",
            "16/16 [==============================] - 0s 3ms/step - loss: 0.0169 - accuracy: 1.0000 - val_loss: 0.0166 - val_accuracy: 0.9980\n",
            "Epoch 201/1000\n",
            "16/16 [==============================] - 0s 3ms/step - loss: 0.0178 - accuracy: 1.0000 - val_loss: 0.0185 - val_accuracy: 1.0000\n",
            "Epoch 202/1000\n",
            "16/16 [==============================] - 0s 4ms/step - loss: 0.0167 - accuracy: 1.0000 - val_loss: 0.0161 - val_accuracy: 1.0000\n",
            "Epoch 203/1000\n",
            "16/16 [==============================] - 0s 3ms/step - loss: 0.0161 - accuracy: 1.0000 - val_loss: 0.0160 - val_accuracy: 1.0000\n",
            "Epoch 204/1000\n",
            "16/16 [==============================] - 0s 3ms/step - loss: 0.0157 - accuracy: 1.0000 - val_loss: 0.0161 - val_accuracy: 1.0000\n",
            "Epoch 205/1000\n",
            "16/16 [==============================] - 0s 3ms/step - loss: 0.0155 - accuracy: 1.0000 - val_loss: 0.0169 - val_accuracy: 0.9980\n",
            "Epoch 206/1000\n",
            "16/16 [==============================] - 0s 3ms/step - loss: 0.0156 - accuracy: 1.0000 - val_loss: 0.0160 - val_accuracy: 1.0000\n",
            "Epoch 207/1000\n",
            "16/16 [==============================] - 0s 3ms/step - loss: 0.0152 - accuracy: 1.0000 - val_loss: 0.0155 - val_accuracy: 0.9980\n",
            "Epoch 208/1000\n",
            "16/16 [==============================] - 0s 3ms/step - loss: 0.0156 - accuracy: 1.0000 - val_loss: 0.0154 - val_accuracy: 1.0000\n",
            "Epoch 209/1000\n",
            "16/16 [==============================] - 0s 3ms/step - loss: 0.0160 - accuracy: 1.0000 - val_loss: 0.0150 - val_accuracy: 0.9980\n",
            "Epoch 210/1000\n",
            "16/16 [==============================] - 0s 3ms/step - loss: 0.0155 - accuracy: 1.0000 - val_loss: 0.0169 - val_accuracy: 1.0000\n",
            "Epoch 211/1000\n",
            "16/16 [==============================] - 0s 3ms/step - loss: 0.0168 - accuracy: 1.0000 - val_loss: 0.0157 - val_accuracy: 1.0000\n",
            "Epoch 212/1000\n",
            "16/16 [==============================] - 0s 3ms/step - loss: 0.0153 - accuracy: 1.0000 - val_loss: 0.0146 - val_accuracy: 1.0000\n",
            "Epoch 213/1000\n",
            "16/16 [==============================] - 0s 3ms/step - loss: 0.0138 - accuracy: 1.0000 - val_loss: 0.0148 - val_accuracy: 1.0000\n",
            "Epoch 214/1000\n",
            "16/16 [==============================] - 0s 3ms/step - loss: 0.0137 - accuracy: 1.0000 - val_loss: 0.0146 - val_accuracy: 0.9980\n",
            "Epoch 215/1000\n",
            "16/16 [==============================] - 0s 3ms/step - loss: 0.0138 - accuracy: 1.0000 - val_loss: 0.0143 - val_accuracy: 1.0000\n",
            "Epoch 216/1000\n",
            "16/16 [==============================] - 0s 3ms/step - loss: 0.0134 - accuracy: 1.0000 - val_loss: 0.0137 - val_accuracy: 0.9980\n",
            "Epoch 217/1000\n",
            "16/16 [==============================] - 0s 3ms/step - loss: 0.0132 - accuracy: 1.0000 - val_loss: 0.0137 - val_accuracy: 1.0000\n",
            "Epoch 218/1000\n",
            "16/16 [==============================] - 0s 3ms/step - loss: 0.0130 - accuracy: 1.0000 - val_loss: 0.0135 - val_accuracy: 1.0000\n",
            "Epoch 219/1000\n",
            "16/16 [==============================] - 0s 3ms/step - loss: 0.0128 - accuracy: 1.0000 - val_loss: 0.0133 - val_accuracy: 0.9980\n",
            "Epoch 220/1000\n",
            "16/16 [==============================] - 0s 4ms/step - loss: 0.0127 - accuracy: 1.0000 - val_loss: 0.0133 - val_accuracy: 1.0000\n",
            "Epoch 221/1000\n",
            "16/16 [==============================] - 0s 4ms/step - loss: 0.0134 - accuracy: 1.0000 - val_loss: 0.0139 - val_accuracy: 1.0000\n",
            "Epoch 222/1000\n",
            "16/16 [==============================] - 0s 4ms/step - loss: 0.0135 - accuracy: 1.0000 - val_loss: 0.0145 - val_accuracy: 1.0000\n",
            "Epoch 223/1000\n",
            "16/16 [==============================] - 0s 4ms/step - loss: 0.0133 - accuracy: 1.0000 - val_loss: 0.0127 - val_accuracy: 0.9980\n",
            "Epoch 224/1000\n",
            "16/16 [==============================] - 0s 3ms/step - loss: 0.0128 - accuracy: 1.0000 - val_loss: 0.0131 - val_accuracy: 1.0000\n",
            "Epoch 225/1000\n",
            "16/16 [==============================] - 0s 3ms/step - loss: 0.0123 - accuracy: 1.0000 - val_loss: 0.0126 - val_accuracy: 1.0000\n",
            "Epoch 226/1000\n",
            "16/16 [==============================] - 0s 3ms/step - loss: 0.0123 - accuracy: 1.0000 - val_loss: 0.0124 - val_accuracy: 1.0000\n",
            "Epoch 227/1000\n",
            "16/16 [==============================] - 0s 3ms/step - loss: 0.0118 - accuracy: 1.0000 - val_loss: 0.0120 - val_accuracy: 1.0000\n",
            "Epoch 228/1000\n",
            "16/16 [==============================] - 0s 3ms/step - loss: 0.0120 - accuracy: 1.0000 - val_loss: 0.0121 - val_accuracy: 1.0000\n",
            "Epoch 229/1000\n",
            "16/16 [==============================] - 0s 3ms/step - loss: 0.0118 - accuracy: 1.0000 - val_loss: 0.0121 - val_accuracy: 1.0000\n",
            "Epoch 230/1000\n",
            "16/16 [==============================] - 0s 4ms/step - loss: 0.0114 - accuracy: 1.0000 - val_loss: 0.0118 - val_accuracy: 1.0000\n",
            "Epoch 231/1000\n",
            "16/16 [==============================] - 0s 3ms/step - loss: 0.0110 - accuracy: 1.0000 - val_loss: 0.0116 - val_accuracy: 1.0000\n",
            "Epoch 232/1000\n",
            "16/16 [==============================] - 0s 4ms/step - loss: 0.0109 - accuracy: 1.0000 - val_loss: 0.0114 - val_accuracy: 1.0000\n",
            "Epoch 233/1000\n",
            "16/16 [==============================] - 0s 3ms/step - loss: 0.0110 - accuracy: 1.0000 - val_loss: 0.0120 - val_accuracy: 1.0000\n",
            "Epoch 234/1000\n",
            "16/16 [==============================] - 0s 4ms/step - loss: 0.0122 - accuracy: 1.0000 - val_loss: 0.0121 - val_accuracy: 1.0000\n",
            "Epoch 235/1000\n",
            "16/16 [==============================] - 0s 3ms/step - loss: 0.0108 - accuracy: 1.0000 - val_loss: 0.0109 - val_accuracy: 1.0000\n",
            "Epoch 236/1000\n",
            "16/16 [==============================] - 0s 3ms/step - loss: 0.0103 - accuracy: 1.0000 - val_loss: 0.0107 - val_accuracy: 1.0000\n",
            "Epoch 237/1000\n",
            "16/16 [==============================] - 0s 3ms/step - loss: 0.0104 - accuracy: 1.0000 - val_loss: 0.0108 - val_accuracy: 1.0000\n",
            "Epoch 238/1000\n",
            "16/16 [==============================] - 0s 3ms/step - loss: 0.0104 - accuracy: 1.0000 - val_loss: 0.0109 - val_accuracy: 1.0000\n",
            "Epoch 239/1000\n",
            "16/16 [==============================] - 0s 3ms/step - loss: 0.0104 - accuracy: 1.0000 - val_loss: 0.0109 - val_accuracy: 1.0000\n",
            "Epoch 240/1000\n",
            "16/16 [==============================] - 0s 4ms/step - loss: 0.0103 - accuracy: 1.0000 - val_loss: 0.0112 - val_accuracy: 1.0000\n",
            "Epoch 241/1000\n",
            "16/16 [==============================] - 0s 3ms/step - loss: 0.0109 - accuracy: 1.0000 - val_loss: 0.0102 - val_accuracy: 1.0000\n",
            "Epoch 242/1000\n",
            "16/16 [==============================] - 0s 3ms/step - loss: 0.0103 - accuracy: 1.0000 - val_loss: 0.0104 - val_accuracy: 1.0000\n",
            "Epoch 243/1000\n",
            "16/16 [==============================] - 0s 4ms/step - loss: 0.0103 - accuracy: 1.0000 - val_loss: 0.0105 - val_accuracy: 1.0000\n",
            "Epoch 244/1000\n",
            "16/16 [==============================] - 0s 4ms/step - loss: 0.0099 - accuracy: 1.0000 - val_loss: 0.0108 - val_accuracy: 1.0000\n",
            "Epoch 245/1000\n",
            "16/16 [==============================] - 0s 4ms/step - loss: 0.0094 - accuracy: 1.0000 - val_loss: 0.0106 - val_accuracy: 0.9980\n",
            "Epoch 246/1000\n",
            "16/16 [==============================] - 0s 4ms/step - loss: 0.0096 - accuracy: 1.0000 - val_loss: 0.0100 - val_accuracy: 1.0000\n",
            "Epoch 247/1000\n",
            "16/16 [==============================] - 0s 3ms/step - loss: 0.0097 - accuracy: 1.0000 - val_loss: 0.0111 - val_accuracy: 1.0000\n",
            "Epoch 248/1000\n",
            "16/16 [==============================] - 0s 3ms/step - loss: 0.0108 - accuracy: 1.0000 - val_loss: 0.0105 - val_accuracy: 1.0000\n",
            "Epoch 249/1000\n",
            "16/16 [==============================] - 0s 3ms/step - loss: 0.0102 - accuracy: 1.0000 - val_loss: 0.0095 - val_accuracy: 1.0000\n",
            "Epoch 250/1000\n",
            "16/16 [==============================] - 0s 4ms/step - loss: 0.0093 - accuracy: 1.0000 - val_loss: 0.0096 - val_accuracy: 1.0000\n",
            "Epoch 251/1000\n",
            "16/16 [==============================] - 0s 4ms/step - loss: 0.0092 - accuracy: 1.0000 - val_loss: 0.0095 - val_accuracy: 1.0000\n",
            "Epoch 252/1000\n",
            "16/16 [==============================] - 0s 3ms/step - loss: 0.0092 - accuracy: 1.0000 - val_loss: 0.0098 - val_accuracy: 0.9980\n",
            "Epoch 253/1000\n",
            "16/16 [==============================] - 0s 3ms/step - loss: 0.0088 - accuracy: 1.0000 - val_loss: 0.0098 - val_accuracy: 1.0000\n",
            "Epoch 254/1000\n",
            "16/16 [==============================] - 0s 3ms/step - loss: 0.0088 - accuracy: 1.0000 - val_loss: 0.0097 - val_accuracy: 0.9980\n",
            "Epoch 255/1000\n",
            "16/16 [==============================] - 0s 3ms/step - loss: 0.0087 - accuracy: 1.0000 - val_loss: 0.0092 - val_accuracy: 1.0000\n",
            "Epoch 256/1000\n",
            "16/16 [==============================] - 0s 3ms/step - loss: 0.0089 - accuracy: 1.0000 - val_loss: 0.0095 - val_accuracy: 1.0000\n",
            "Epoch 257/1000\n",
            "16/16 [==============================] - 0s 3ms/step - loss: 0.0086 - accuracy: 1.0000 - val_loss: 0.0088 - val_accuracy: 1.0000\n",
            "Epoch 258/1000\n",
            "16/16 [==============================] - 0s 3ms/step - loss: 0.0083 - accuracy: 1.0000 - val_loss: 0.0088 - val_accuracy: 1.0000\n",
            "Epoch 259/1000\n",
            "16/16 [==============================] - 0s 3ms/step - loss: 0.0082 - accuracy: 1.0000 - val_loss: 0.0088 - val_accuracy: 1.0000\n",
            "Epoch 260/1000\n",
            "16/16 [==============================] - 0s 3ms/step - loss: 0.0079 - accuracy: 1.0000 - val_loss: 0.0088 - val_accuracy: 0.9980\n",
            "Epoch 261/1000\n",
            "16/16 [==============================] - 0s 3ms/step - loss: 0.0079 - accuracy: 1.0000 - val_loss: 0.0086 - val_accuracy: 1.0000\n",
            "Epoch 262/1000\n",
            "16/16 [==============================] - 0s 3ms/step - loss: 0.0081 - accuracy: 1.0000 - val_loss: 0.0101 - val_accuracy: 1.0000\n",
            "Epoch 263/1000\n",
            "16/16 [==============================] - 0s 3ms/step - loss: 0.0095 - accuracy: 1.0000 - val_loss: 0.0084 - val_accuracy: 1.0000\n",
            "Epoch 264/1000\n",
            "16/16 [==============================] - 0s 3ms/step - loss: 0.0092 - accuracy: 1.0000 - val_loss: 0.0084 - val_accuracy: 1.0000\n",
            "Epoch 265/1000\n",
            "16/16 [==============================] - 0s 3ms/step - loss: 0.0078 - accuracy: 1.0000 - val_loss: 0.0087 - val_accuracy: 1.0000\n",
            "Epoch 266/1000\n",
            "16/16 [==============================] - 0s 3ms/step - loss: 0.0078 - accuracy: 1.0000 - val_loss: 0.0085 - val_accuracy: 1.0000\n",
            "Epoch 267/1000\n",
            "16/16 [==============================] - 0s 4ms/step - loss: 0.0083 - accuracy: 1.0000 - val_loss: 0.0089 - val_accuracy: 0.9980\n",
            "Epoch 268/1000\n",
            "16/16 [==============================] - 0s 3ms/step - loss: 0.0076 - accuracy: 1.0000 - val_loss: 0.0084 - val_accuracy: 1.0000\n",
            "Epoch 269/1000\n",
            "16/16 [==============================] - 0s 3ms/step - loss: 0.0073 - accuracy: 1.0000 - val_loss: 0.0081 - val_accuracy: 1.0000\n",
            "Epoch 270/1000\n",
            "16/16 [==============================] - 0s 3ms/step - loss: 0.0073 - accuracy: 1.0000 - val_loss: 0.0078 - val_accuracy: 0.9980\n",
            "Epoch 271/1000\n",
            "16/16 [==============================] - 0s 3ms/step - loss: 0.0074 - accuracy: 1.0000 - val_loss: 0.0084 - val_accuracy: 1.0000\n",
            "Epoch 272/1000\n",
            "16/16 [==============================] - 0s 3ms/step - loss: 0.0077 - accuracy: 1.0000 - val_loss: 0.0086 - val_accuracy: 1.0000\n",
            "Epoch 273/1000\n",
            "16/16 [==============================] - 0s 3ms/step - loss: 0.0085 - accuracy: 1.0000 - val_loss: 0.0080 - val_accuracy: 0.9980\n",
            "Epoch 274/1000\n",
            "16/16 [==============================] - 0s 3ms/step - loss: 0.0069 - accuracy: 1.0000 - val_loss: 0.0073 - val_accuracy: 1.0000\n",
            "Epoch 275/1000\n",
            "16/16 [==============================] - 0s 3ms/step - loss: 0.0070 - accuracy: 1.0000 - val_loss: 0.0074 - val_accuracy: 1.0000\n",
            "Epoch 276/1000\n",
            "16/16 [==============================] - 0s 3ms/step - loss: 0.0071 - accuracy: 1.0000 - val_loss: 0.0075 - val_accuracy: 1.0000\n",
            "Epoch 277/1000\n",
            "16/16 [==============================] - 0s 3ms/step - loss: 0.0078 - accuracy: 1.0000 - val_loss: 0.0077 - val_accuracy: 1.0000\n",
            "Epoch 278/1000\n",
            "16/16 [==============================] - 0s 3ms/step - loss: 0.0072 - accuracy: 1.0000 - val_loss: 0.0077 - val_accuracy: 1.0000\n",
            "Epoch 279/1000\n",
            "16/16 [==============================] - 0s 3ms/step - loss: 0.0068 - accuracy: 1.0000 - val_loss: 0.0076 - val_accuracy: 1.0000\n",
            "Epoch 280/1000\n",
            "16/16 [==============================] - 0s 3ms/step - loss: 0.0071 - accuracy: 1.0000 - val_loss: 0.0080 - val_accuracy: 1.0000\n",
            "Epoch 281/1000\n",
            "16/16 [==============================] - 0s 3ms/step - loss: 0.0069 - accuracy: 1.0000 - val_loss: 0.0069 - val_accuracy: 1.0000\n",
            "Epoch 282/1000\n",
            "16/16 [==============================] - 0s 3ms/step - loss: 0.0066 - accuracy: 1.0000 - val_loss: 0.0071 - val_accuracy: 1.0000\n",
            "Epoch 283/1000\n",
            "16/16 [==============================] - 0s 3ms/step - loss: 0.0064 - accuracy: 1.0000 - val_loss: 0.0069 - val_accuracy: 1.0000\n",
            "Epoch 284/1000\n",
            "16/16 [==============================] - 0s 4ms/step - loss: 0.0062 - accuracy: 1.0000 - val_loss: 0.0067 - val_accuracy: 1.0000\n",
            "Epoch 285/1000\n",
            "16/16 [==============================] - 0s 3ms/step - loss: 0.0061 - accuracy: 1.0000 - val_loss: 0.0067 - val_accuracy: 1.0000\n",
            "Epoch 286/1000\n",
            "16/16 [==============================] - 0s 3ms/step - loss: 0.0060 - accuracy: 1.0000 - val_loss: 0.0068 - val_accuracy: 1.0000\n",
            "Epoch 287/1000\n",
            "16/16 [==============================] - 0s 3ms/step - loss: 0.0059 - accuracy: 1.0000 - val_loss: 0.0065 - val_accuracy: 1.0000\n",
            "Epoch 288/1000\n",
            "16/16 [==============================] - 0s 3ms/step - loss: 0.0061 - accuracy: 1.0000 - val_loss: 0.0070 - val_accuracy: 0.9980\n",
            "Epoch 289/1000\n",
            "16/16 [==============================] - 0s 4ms/step - loss: 0.0059 - accuracy: 1.0000 - val_loss: 0.0066 - val_accuracy: 1.0000\n",
            "Epoch 290/1000\n",
            "16/16 [==============================] - 0s 3ms/step - loss: 0.0057 - accuracy: 1.0000 - val_loss: 0.0064 - val_accuracy: 1.0000\n",
            "Epoch 291/1000\n",
            "16/16 [==============================] - 0s 4ms/step - loss: 0.0061 - accuracy: 1.0000 - val_loss: 0.0063 - val_accuracy: 1.0000\n",
            "Epoch 292/1000\n",
            "16/16 [==============================] - 0s 3ms/step - loss: 0.0058 - accuracy: 1.0000 - val_loss: 0.0063 - val_accuracy: 1.0000\n",
            "Epoch 293/1000\n",
            "16/16 [==============================] - 0s 3ms/step - loss: 0.0056 - accuracy: 1.0000 - val_loss: 0.0064 - val_accuracy: 1.0000\n",
            "Epoch 294/1000\n",
            "16/16 [==============================] - 0s 3ms/step - loss: 0.0058 - accuracy: 1.0000 - val_loss: 0.0063 - val_accuracy: 1.0000\n",
            "Epoch 295/1000\n",
            "16/16 [==============================] - 0s 3ms/step - loss: 0.0058 - accuracy: 1.0000 - val_loss: 0.0064 - val_accuracy: 1.0000\n",
            "Epoch 296/1000\n",
            "16/16 [==============================] - 0s 3ms/step - loss: 0.0056 - accuracy: 1.0000 - val_loss: 0.0060 - val_accuracy: 1.0000\n",
            "Epoch 297/1000\n",
            "16/16 [==============================] - 0s 4ms/step - loss: 0.0055 - accuracy: 1.0000 - val_loss: 0.0082 - val_accuracy: 1.0000\n",
            "Epoch 298/1000\n",
            "16/16 [==============================] - 0s 4ms/step - loss: 0.0060 - accuracy: 1.0000 - val_loss: 0.0061 - val_accuracy: 1.0000\n",
            "Epoch 299/1000\n",
            "16/16 [==============================] - 0s 3ms/step - loss: 0.0057 - accuracy: 1.0000 - val_loss: 0.0061 - val_accuracy: 1.0000\n",
            "Epoch 300/1000\n",
            "16/16 [==============================] - 0s 4ms/step - loss: 0.0059 - accuracy: 1.0000 - val_loss: 0.0065 - val_accuracy: 0.9980\n",
            "Epoch 301/1000\n",
            "16/16 [==============================] - 0s 3ms/step - loss: 0.0058 - accuracy: 1.0000 - val_loss: 0.0059 - val_accuracy: 1.0000\n",
            "Epoch 302/1000\n",
            "16/16 [==============================] - 0s 3ms/step - loss: 0.0050 - accuracy: 1.0000 - val_loss: 0.0056 - val_accuracy: 1.0000\n",
            "Epoch 303/1000\n",
            "16/16 [==============================] - 0s 3ms/step - loss: 0.0052 - accuracy: 1.0000 - val_loss: 0.0058 - val_accuracy: 1.0000\n",
            "Epoch 304/1000\n",
            "16/16 [==============================] - 0s 4ms/step - loss: 0.0049 - accuracy: 1.0000 - val_loss: 0.0057 - val_accuracy: 1.0000\n",
            "Epoch 305/1000\n",
            "16/16 [==============================] - 0s 3ms/step - loss: 0.0050 - accuracy: 1.0000 - val_loss: 0.0058 - val_accuracy: 1.0000\n",
            "Epoch 306/1000\n",
            "16/16 [==============================] - 0s 4ms/step - loss: 0.0051 - accuracy: 1.0000 - val_loss: 0.0060 - val_accuracy: 1.0000\n",
            "Epoch 307/1000\n",
            "16/16 [==============================] - 0s 3ms/step - loss: 0.0049 - accuracy: 1.0000 - val_loss: 0.0058 - val_accuracy: 1.0000\n",
            "Epoch 308/1000\n",
            "16/16 [==============================] - 0s 3ms/step - loss: 0.0051 - accuracy: 1.0000 - val_loss: 0.0067 - val_accuracy: 1.0000\n",
            "Epoch 309/1000\n",
            "16/16 [==============================] - 0s 3ms/step - loss: 0.0052 - accuracy: 1.0000 - val_loss: 0.0054 - val_accuracy: 1.0000\n",
            "Epoch 310/1000\n",
            "16/16 [==============================] - 0s 3ms/step - loss: 0.0051 - accuracy: 1.0000 - val_loss: 0.0056 - val_accuracy: 1.0000\n",
            "Epoch 311/1000\n",
            "16/16 [==============================] - 0s 3ms/step - loss: 0.0046 - accuracy: 1.0000 - val_loss: 0.0053 - val_accuracy: 1.0000\n",
            "Epoch 312/1000\n",
            "16/16 [==============================] - 0s 4ms/step - loss: 0.0046 - accuracy: 1.0000 - val_loss: 0.0060 - val_accuracy: 1.0000\n",
            "Epoch 313/1000\n",
            "16/16 [==============================] - 0s 3ms/step - loss: 0.0051 - accuracy: 1.0000 - val_loss: 0.0057 - val_accuracy: 1.0000\n",
            "Epoch 314/1000\n",
            "16/16 [==============================] - 0s 3ms/step - loss: 0.0049 - accuracy: 1.0000 - val_loss: 0.0054 - val_accuracy: 1.0000\n",
            "Epoch 315/1000\n",
            "16/16 [==============================] - 0s 3ms/step - loss: 0.0050 - accuracy: 1.0000 - val_loss: 0.0063 - val_accuracy: 1.0000\n",
            "Epoch 316/1000\n",
            "16/16 [==============================] - 0s 4ms/step - loss: 0.0051 - accuracy: 1.0000 - val_loss: 0.0053 - val_accuracy: 1.0000\n",
            "Epoch 317/1000\n",
            "16/16 [==============================] - 0s 4ms/step - loss: 0.0046 - accuracy: 1.0000 - val_loss: 0.0055 - val_accuracy: 1.0000\n",
            "Epoch 318/1000\n",
            "16/16 [==============================] - 0s 3ms/step - loss: 0.0048 - accuracy: 1.0000 - val_loss: 0.0054 - val_accuracy: 1.0000\n",
            "Epoch 319/1000\n",
            "16/16 [==============================] - 0s 4ms/step - loss: 0.0047 - accuracy: 1.0000 - val_loss: 0.0048 - val_accuracy: 1.0000\n",
            "Epoch 320/1000\n",
            "16/16 [==============================] - 0s 3ms/step - loss: 0.0044 - accuracy: 1.0000 - val_loss: 0.0051 - val_accuracy: 1.0000\n",
            "Epoch 321/1000\n",
            "16/16 [==============================] - 0s 3ms/step - loss: 0.0043 - accuracy: 1.0000 - val_loss: 0.0052 - val_accuracy: 1.0000\n",
            "Epoch 322/1000\n",
            "16/16 [==============================] - 0s 3ms/step - loss: 0.0044 - accuracy: 1.0000 - val_loss: 0.0049 - val_accuracy: 1.0000\n",
            "Epoch 323/1000\n",
            "16/16 [==============================] - 0s 3ms/step - loss: 0.0042 - accuracy: 1.0000 - val_loss: 0.0048 - val_accuracy: 1.0000\n",
            "Epoch 324/1000\n",
            "16/16 [==============================] - 0s 3ms/step - loss: 0.0042 - accuracy: 1.0000 - val_loss: 0.0053 - val_accuracy: 1.0000\n",
            "Epoch 325/1000\n",
            "16/16 [==============================] - 0s 3ms/step - loss: 0.0044 - accuracy: 1.0000 - val_loss: 0.0047 - val_accuracy: 1.0000\n",
            "Epoch 326/1000\n",
            "16/16 [==============================] - 0s 3ms/step - loss: 0.0043 - accuracy: 1.0000 - val_loss: 0.0045 - val_accuracy: 1.0000\n",
            "Epoch 327/1000\n",
            "16/16 [==============================] - 0s 3ms/step - loss: 0.0041 - accuracy: 1.0000 - val_loss: 0.0047 - val_accuracy: 1.0000\n",
            "Epoch 328/1000\n",
            "16/16 [==============================] - 0s 3ms/step - loss: 0.0040 - accuracy: 1.0000 - val_loss: 0.0047 - val_accuracy: 1.0000\n",
            "Epoch 329/1000\n",
            "16/16 [==============================] - 0s 3ms/step - loss: 0.0038 - accuracy: 1.0000 - val_loss: 0.0045 - val_accuracy: 1.0000\n",
            "Epoch 330/1000\n",
            "16/16 [==============================] - 0s 4ms/step - loss: 0.0041 - accuracy: 1.0000 - val_loss: 0.0049 - val_accuracy: 1.0000\n",
            "Epoch 331/1000\n",
            "16/16 [==============================] - 0s 4ms/step - loss: 0.0044 - accuracy: 1.0000 - val_loss: 0.0045 - val_accuracy: 1.0000\n",
            "Epoch 332/1000\n",
            "16/16 [==============================] - 0s 3ms/step - loss: 0.0043 - accuracy: 1.0000 - val_loss: 0.0047 - val_accuracy: 1.0000\n",
            "Epoch 333/1000\n",
            "16/16 [==============================] - 0s 4ms/step - loss: 0.0040 - accuracy: 1.0000 - val_loss: 0.0045 - val_accuracy: 1.0000\n",
            "Epoch 334/1000\n",
            "16/16 [==============================] - 0s 3ms/step - loss: 0.0038 - accuracy: 1.0000 - val_loss: 0.0046 - val_accuracy: 1.0000\n",
            "Epoch 335/1000\n",
            "16/16 [==============================] - 0s 4ms/step - loss: 0.0037 - accuracy: 1.0000 - val_loss: 0.0044 - val_accuracy: 1.0000\n",
            "Epoch 336/1000\n",
            "16/16 [==============================] - 0s 3ms/step - loss: 0.0038 - accuracy: 1.0000 - val_loss: 0.0043 - val_accuracy: 1.0000\n",
            "Epoch 337/1000\n",
            "16/16 [==============================] - 0s 3ms/step - loss: 0.0037 - accuracy: 1.0000 - val_loss: 0.0045 - val_accuracy: 1.0000\n",
            "Epoch 338/1000\n",
            "16/16 [==============================] - 0s 3ms/step - loss: 0.0038 - accuracy: 1.0000 - val_loss: 0.0043 - val_accuracy: 1.0000\n",
            "Epoch 339/1000\n",
            "16/16 [==============================] - 0s 3ms/step - loss: 0.0037 - accuracy: 1.0000 - val_loss: 0.0045 - val_accuracy: 1.0000\n",
            "Epoch 340/1000\n",
            "16/16 [==============================] - 0s 3ms/step - loss: 0.0036 - accuracy: 1.0000 - val_loss: 0.0041 - val_accuracy: 1.0000\n",
            "Epoch 341/1000\n",
            "16/16 [==============================] - 0s 3ms/step - loss: 0.0038 - accuracy: 1.0000 - val_loss: 0.0054 - val_accuracy: 1.0000\n",
            "Epoch 342/1000\n",
            "16/16 [==============================] - 0s 3ms/step - loss: 0.0037 - accuracy: 1.0000 - val_loss: 0.0042 - val_accuracy: 1.0000\n",
            "Epoch 343/1000\n",
            "16/16 [==============================] - 0s 3ms/step - loss: 0.0035 - accuracy: 1.0000 - val_loss: 0.0041 - val_accuracy: 1.0000\n",
            "Epoch 344/1000\n",
            "16/16 [==============================] - 0s 3ms/step - loss: 0.0034 - accuracy: 1.0000 - val_loss: 0.0045 - val_accuracy: 1.0000\n",
            "Epoch 345/1000\n",
            "16/16 [==============================] - 0s 3ms/step - loss: 0.0038 - accuracy: 1.0000 - val_loss: 0.0047 - val_accuracy: 1.0000\n",
            "Epoch 346/1000\n",
            "16/16 [==============================] - 0s 3ms/step - loss: 0.0035 - accuracy: 1.0000 - val_loss: 0.0040 - val_accuracy: 1.0000\n",
            "Epoch 347/1000\n",
            "16/16 [==============================] - 0s 3ms/step - loss: 0.0031 - accuracy: 1.0000 - val_loss: 0.0045 - val_accuracy: 1.0000\n",
            "Epoch 348/1000\n",
            "16/16 [==============================] - 0s 3ms/step - loss: 0.0034 - accuracy: 1.0000 - val_loss: 0.0040 - val_accuracy: 1.0000\n",
            "Epoch 349/1000\n",
            "16/16 [==============================] - 0s 3ms/step - loss: 0.0035 - accuracy: 1.0000 - val_loss: 0.0041 - val_accuracy: 1.0000\n",
            "Epoch 350/1000\n",
            "16/16 [==============================] - 0s 3ms/step - loss: 0.0032 - accuracy: 1.0000 - val_loss: 0.0038 - val_accuracy: 1.0000\n",
            "Epoch 351/1000\n",
            "16/16 [==============================] - 0s 3ms/step - loss: 0.0034 - accuracy: 1.0000 - val_loss: 0.0039 - val_accuracy: 1.0000\n",
            "Epoch 352/1000\n",
            "16/16 [==============================] - 0s 4ms/step - loss: 0.0042 - accuracy: 1.0000 - val_loss: 0.0047 - val_accuracy: 0.9980\n",
            "Epoch 353/1000\n",
            "16/16 [==============================] - 0s 4ms/step - loss: 0.0033 - accuracy: 1.0000 - val_loss: 0.0036 - val_accuracy: 1.0000\n",
            "Epoch 354/1000\n",
            "16/16 [==============================] - 0s 3ms/step - loss: 0.0034 - accuracy: 1.0000 - val_loss: 0.0039 - val_accuracy: 1.0000\n",
            "Epoch 355/1000\n",
            "16/16 [==============================] - 0s 3ms/step - loss: 0.0034 - accuracy: 1.0000 - val_loss: 0.0036 - val_accuracy: 1.0000\n",
            "Epoch 356/1000\n",
            "16/16 [==============================] - 0s 3ms/step - loss: 0.0036 - accuracy: 1.0000 - val_loss: 0.0038 - val_accuracy: 1.0000\n",
            "Epoch 357/1000\n",
            "16/16 [==============================] - 0s 3ms/step - loss: 0.0034 - accuracy: 1.0000 - val_loss: 0.0038 - val_accuracy: 1.0000\n",
            "21.028384685516357\n"
          ],
          "name": "stdout"
        }
      ]
    },
    {
      "cell_type": "code",
      "metadata": {
        "id": "8h_mXzQ5s8cu",
        "colab": {
          "base_uri": "https://localhost:8080/",
          "height": 36
        },
        "outputId": "bb6dcb2e-856d-48ba-fc7c-4af36ba5f692"
      },
      "source": [
        "\n",
        "# evaluate the model\n",
        "_, acc_treino = modelo.evaluate(Xtreino, ytreino, verbose = 0)\n",
        "_, acc_teste = modelo.evaluate(Xteste, yteste, verbose = 0)\n",
        "print('Performance: Treino: {:.3f}, Teste: {:.3f}'.format(acc_treino, acc_teste))\n"
      ],
      "execution_count": null,
      "outputs": [
        {
          "output_type": "stream",
          "text": [
            "Performance: Treino: 1.000, Teste: 1.000\n"
          ],
          "name": "stdout"
        }
      ]
    },
    {
      "cell_type": "code",
      "metadata": {
        "id": "r7prSHMLzdob",
        "colab": {
          "base_uri": "https://localhost:8080/",
          "height": 36
        },
        "outputId": "6db06c9b-61d5-4fa6-ab58-323247ff87c2"
      },
      "source": [
        "modelo.metrics_names "
      ],
      "execution_count": null,
      "outputs": [
        {
          "output_type": "execute_result",
          "data": {
            "text/plain": [
              "['loss', 'accuracy']"
            ]
          },
          "metadata": {
            "tags": []
          },
          "execution_count": 181
        }
      ]
    },
    {
      "cell_type": "code",
      "metadata": {
        "id": "NUM2xfqGs5fF",
        "colab": {
          "base_uri": "https://localhost:8080/",
          "height": 391
        },
        "outputId": "a3051938-c012-4b2a-9ec6-c4af417e111d"
      },
      "source": [
        "# GRÁFICOS DO TREINAMENTO\n",
        "\n",
        "plt.figure(figsize = (12, 6))\n",
        "plt.style.use('ggplot')\n",
        "\n",
        "plt.subplot(121)\n",
        "plt.title('Função de Perda')\n",
        "plt.plot(treinamento.history['loss'], label='TREINO')\n",
        "plt.plot(treinamento.history['val_loss'], label='TESTE')\n",
        "plt.ylim(0, 1)\n",
        "plt.legend(loc = 'lower left') \n",
        "\n",
        "# plot accuracy during training\n",
        "plt.subplot(122)\n",
        "plt.title('Acurácia')\n",
        "plt.plot(treinamento.history['accuracy'], label='TREINO')\n",
        "plt.plot(treinamento.history['val_accuracy'], label='TESTE')\n",
        "plt.ylim(0, 1)\n",
        "plt.legend(loc = 'lower left')\n",
        "\n",
        "plt.show()\n",
        " \n",
        " "
      ],
      "execution_count": null,
      "outputs": [
        {
          "output_type": "display_data",
          "data": {
            "image/png": "[encoded data removed]",
            "text/plain": [
              "<Figure size 864x432 with 2 Axes>"
            ]
          },
          "metadata": {
            "tags": []
          }
        }
      ]
    },
    {
      "cell_type": "markdown",
      "metadata": {
        "id": "xM67bi5G6fTy"
      },
      "source": [
        "## **Trabalho para Entregar**\n",
        "\n",
        "- Deve ser feito individual ou em duplas.\n",
        "\n",
        "- O trabalho consiste de fazer experimentos com redes neurais utilizando Keras.\n",
        "Vocês deve utilizar um conjunto de dados com pelo menos 2000 linhas e 10 variáveis. O conjunto deve conter uma variável resposta em que se deseja fazer previsões. \n",
        "\n",
        "- Cada grupo deve trabalhar com um conjunto de dados diferente, portanto, assim que definirem o conjunto, enviar para eu ver e dar um ok. \n",
        "\n",
        "- No trabalho, vocês devem procurar pela melhor arquitetura para o problema, isto é, a rede que minimiza a métrica alvo no menor tempo de treinamento possível. \n",
        "\n",
        "- Na arquitetura, vocês devem comparar modelos com 1 e 2 camadas ocultas. Verifique a melhor quantidade de neurônios para cada camada. \n",
        "Verifique também quais são as melhores função de ligação para se utilizar em cada camada.\n",
        "\n",
        "- Conclua seu trabalho apresentando qual é a arquitetura que deve ser utilizada no problema em questão. \n",
        "\n",
        "- Organize o seu experimento e relate todos os passos tomados. Descreva os insights obtidos pelos resultados. Conte a história de tudo o que você fez para chegar na sua resposta.\n",
        "\n",
        "- O trabalho deve ser feito no formato ipynb e pode ser entregue através de um link do github. \n",
        "\n",
        "**O prazo de entrega do trabalho é até: 11/11/2020**"
      ]
    },
    {
      "cell_type": "markdown",
      "metadata": {
        "id": "K4itqtL_q-ca"
      },
      "source": [
        "---"
      ]
    },
    {
      "cell_type": "markdown",
      "metadata": {
        "id": "PeioRRPqSgaE"
      },
      "source": [
        "---"
      ]
    },
    {
      "cell_type": "markdown",
      "metadata": {
        "id": "Sc2J2kz5Sg6u"
      },
      "source": [
        "---"
      ]
    },
    {
      "cell_type": "markdown",
      "metadata": {
        "id": "k-kvaXKtq_D0"
      },
      "source": [
        "## **Redes Neurais Convolucionais**"
      ]
    },
    {
      "cell_type": "code",
      "metadata": {
        "id": "fzCrtFn2JglB"
      },
      "source": [
        "# BIBLIOTECAS DE INTERESSE\r\n",
        "import numpy as np  \r\n",
        "from tensorflow import keras\r\n",
        "from tensorflow.keras import layers\r\n",
        "from tensorflow.keras.models import Sequential\r\n",
        "from tensorflow.keras.layers import Dense\r\n",
        "from tensorflow.keras.utils import to_categorical"
      ],
      "execution_count": null,
      "outputs": []
    },
    {
      "cell_type": "code",
      "metadata": {
        "colab": {
          "base_uri": "https://localhost:8080/"
        },
        "id": "vBOOjOwKRhBH",
        "outputId": "4debad3f-aa15-4b95-f4f4-e14262d5a266"
      },
      "source": [
        "# CARREGANDO OS DADOS MNIST\r\n",
        "(img_treino, y_treino), (img_teste, y_teste) = keras.datasets.mnist.load_data()"
      ],
      "execution_count": null,
      "outputs": [
        {
          "output_type": "stream",
          "text": [
            "Downloading data from https://storage.googleapis.com/tensorflow/tf-keras-datasets/mnist.npz\n",
            "11493376/11490434 [==============================] - 0s 0us/step\n"
          ],
          "name": "stdout"
        }
      ]
    },
    {
      "cell_type": "code",
      "metadata": {
        "colab": {
          "base_uri": "https://localhost:8080/"
        },
        "id": "9SZNr812Ucs6",
        "outputId": "206dfe94-0692-4362-ac96-5c39e708fd36"
      },
      "source": [
        "print(img_treino.shape)\r\n",
        "print(y_treino.shape)\r\n",
        "print(img_teste.shape)\r\n",
        "print(y_teste.shape)"
      ],
      "execution_count": null,
      "outputs": [
        {
          "output_type": "stream",
          "text": [
            "(60000, 28, 28)\n",
            "(60000,)\n",
            "(10000, 28, 28)\n",
            "(10000,)\n"
          ],
          "name": "stdout"
        }
      ]
    },
    {
      "cell_type": "code",
      "metadata": {
        "colab": {
          "base_uri": "https://localhost:8080/"
        },
        "id": "wBedxIDGiq6X",
        "outputId": "b975e296-4c62-4048-c619-305b2a0d43ca"
      },
      "source": [
        "28*28"
      ],
      "execution_count": null,
      "outputs": [
        {
          "output_type": "execute_result",
          "data": {
            "text/plain": [
              "784"
            ]
          },
          "metadata": {
            "tags": []
          },
          "execution_count": 4
        }
      ]
    },
    {
      "cell_type": "markdown",
      "metadata": {
        "id": "K_2WdykeJgdK"
      },
      "source": [
        "## Rede Neural simples nos dados MNIST\r\n"
      ]
    },
    {
      "cell_type": "code",
      "metadata": {
        "colab": {
          "base_uri": "https://localhost:8080/"
        },
        "id": "O2JKDfOFRO72",
        "outputId": "707e5aa1-ef55-4cf1-be85-33b481d89f2f"
      },
      "source": [
        "# NORMALIZAR OS VALORES DOS PIXELS\r\n",
        "Xtreino = (img_treino / 255) - 0.5\r\n",
        "Xteste = (img_teste / 255) - 0.5\r\n",
        "\r\n",
        "# TRANSFORMAR NUM VETOR DE DIMENSAO 1\r\n",
        "Xtreino = Xtreino.reshape((-1, 784))\r\n",
        "Xteste = Xteste.reshape((-1, 784))\r\n",
        "\r\n",
        "# ARQUITETURA DA REDE\r\n",
        "ann = Sequential([\r\n",
        "  Dense(64, activation='relu', input_shape=(784,)),\r\n",
        "  Dense(64, activation='relu'),\r\n",
        "  Dense(10, activation='softmax'),\r\n",
        "])\r\n",
        "\r\n",
        "# SETUP DA REDE\r\n",
        "ann.compile(optimizer='adam', loss='categorical_crossentropy', metrics=['accuracy'])\r\n",
        "\r\n",
        "# TREINAMENTO DA REDE\r\n",
        "ann.fit(Xtreino, to_categorical(y_treino), epochs = 10, batch_size = 32)"
      ],
      "execution_count": null,
      "outputs": [
        {
          "output_type": "stream",
          "text": [
            "Epoch 1/10\n",
            "1875/1875 [==============================] - 3s 1ms/step - loss: 0.3486 - accuracy: 0.8951\n",
            "Epoch 2/10\n",
            "1875/1875 [==============================] - 3s 1ms/step - loss: 0.1750 - accuracy: 0.9466\n",
            "Epoch 3/10\n",
            "1875/1875 [==============================] - 3s 1ms/step - loss: 0.1357 - accuracy: 0.9575\n",
            "Epoch 4/10\n",
            "1875/1875 [==============================] - 3s 1ms/step - loss: 0.1165 - accuracy: 0.9635\n",
            "Epoch 5/10\n",
            "1875/1875 [==============================] - 3s 1ms/step - loss: 0.1019 - accuracy: 0.9678\n",
            "Epoch 6/10\n",
            "1875/1875 [==============================] - 3s 1ms/step - loss: 0.0897 - accuracy: 0.9717\n",
            "Epoch 7/10\n",
            "1875/1875 [==============================] - 3s 1ms/step - loss: 0.0818 - accuracy: 0.9738\n",
            "Epoch 8/10\n",
            "1875/1875 [==============================] - 3s 1ms/step - loss: 0.0747 - accuracy: 0.9757\n",
            "Epoch 9/10\n",
            "1875/1875 [==============================] - 3s 1ms/step - loss: 0.0692 - accuracy: 0.9780\n",
            "Epoch 10/10\n",
            "1875/1875 [==============================] - 3s 1ms/step - loss: 0.0629 - accuracy: 0.9796\n"
          ],
          "name": "stdout"
        },
        {
          "output_type": "execute_result",
          "data": {
            "text/plain": [
              "<tensorflow.python.keras.callbacks.History at 0x7fe916851fd0>"
            ]
          },
          "metadata": {
            "tags": []
          },
          "execution_count": 5
        }
      ]
    },
    {
      "cell_type": "code",
      "metadata": {
        "colab": {
          "base_uri": "https://localhost:8080/"
        },
        "id": "52I97AACKuL1",
        "outputId": "87d8f6de-5bfd-410e-938c-fe5e16c6167b"
      },
      "source": [
        "# PERFORMANCE DO MODELO NOS DADOS DE TESTE\r\n",
        "ann.evaluate(Xteste, to_categorical(y_teste)) "
      ],
      "execution_count": null,
      "outputs": [
        {
          "output_type": "stream",
          "text": [
            "313/313 [==============================] - 0s 906us/step - loss: 0.0968 - accuracy: 0.9717\n"
          ],
          "name": "stdout"
        },
        {
          "output_type": "execute_result",
          "data": {
            "text/plain": [
              "[0.09684669971466064, 0.9717000126838684]"
            ]
          },
          "metadata": {
            "tags": []
          },
          "execution_count": 6
        }
      ]
    },
    {
      "cell_type": "markdown",
      "metadata": {
        "id": "gaM6mhezLD3P"
      },
      "source": [
        "---"
      ]
    },
    {
      "cell_type": "markdown",
      "metadata": {
        "id": "lCRGGS3tLEWg"
      },
      "source": [
        "## Rede Neural Convolucional nos dados MNIST\r\n",
        "  "
      ]
    },
    {
      "cell_type": "code",
      "metadata": {
        "colab": {
          "base_uri": "https://localhost:8080/"
        },
        "id": "lcbIM8sbRunG",
        "outputId": "03f04ac3-d2a8-4afe-b7dd-bb333d9b3507"
      },
      "source": [
        "# DEIXANDO AS VARIÁVEIS NA ESCALA 0-1\r\n",
        "Xtreino = img_treino.astype(\"float32\") / 255\r\n",
        "Xteste = img_teste.astype(\"float32\") / 255\r\n",
        "\r\n",
        "# DEIXANDO NO SHAPE ADEQUADO: (28, 28, 1)\r\n",
        "Xtreino = np.expand_dims(Xtreino, -1)\r\n",
        "Xteste = np.expand_dims(Xteste, -1) \r\n",
        "\r\n",
        "# CONVERTENDO A VARIÁVEL RESPOSTA EM VARIÁVEIS DUMMYS DE CADA CATEGORIA\r\n",
        "# (É UM PADRÃO DO KERAS PARA USO DE CNN MULTICLASSE)\r\n",
        "ytreino = keras.utils.to_categorical(y_treino, 10)\r\n",
        "yteste = keras.utils.to_categorical(y_teste, 10)\r\n",
        "\r\n",
        "#DEFININDO A ARQUITETURA DA CNN\r\n",
        "cnn = keras.Sequential(\r\n",
        "    [\r\n",
        "        keras.Input(shape = (28, 28, 1)),\r\n",
        "        layers.Conv2D(32, kernel_size=(3, 3), activation=\"relu\"),\r\n",
        "        layers.MaxPooling2D(pool_size=(2, 2)),\r\n",
        "        layers.Conv2D(64, kernel_size=(3, 3), activation=\"relu\"),\r\n",
        "        layers.MaxPooling2D(pool_size=(2, 2)),\r\n",
        "        layers.Flatten(),\r\n",
        "        layers.Dropout(0.5),\r\n",
        "        layers.Dense(10, activation=\"softmax\"),\r\n",
        "    ]\r\n",
        ")\r\n",
        "\r\n",
        "cnn.summary()\r\n",
        " \r\n",
        "cnn.compile(loss=\"categorical_crossentropy\", optimizer=\"adam\", metrics=[\"accuracy\"])\r\n",
        "\r\n",
        "cnn.fit(Xtreino, ytreino, batch_size = 128, epochs = 10)"
      ],
      "execution_count": null,
      "outputs": [
        {
          "output_type": "stream",
          "text": [
            "Model: \"sequential_6\"\n",
            "_________________________________________________________________\n",
            "Layer (type)                 Output Shape              Param #   \n",
            "=================================================================\n",
            "conv2d_4 (Conv2D)            (None, 26, 26, 32)        320       \n",
            "_________________________________________________________________\n",
            "max_pooling2d_4 (MaxPooling2 (None, 13, 13, 32)        0         \n",
            "_________________________________________________________________\n",
            "conv2d_5 (Conv2D)            (None, 11, 11, 64)        18496     \n",
            "_________________________________________________________________\n",
            "max_pooling2d_5 (MaxPooling2 (None, 5, 5, 64)          0         \n",
            "_________________________________________________________________\n",
            "flatten_2 (Flatten)          (None, 1600)              0         \n",
            "_________________________________________________________________\n",
            "dropout_2 (Dropout)          (None, 1600)              0         \n",
            "_________________________________________________________________\n",
            "dense_14 (Dense)             (None, 10)                16010     \n",
            "=================================================================\n",
            "Total params: 34,826\n",
            "Trainable params: 34,826\n",
            "Non-trainable params: 0\n",
            "_________________________________________________________________\n",
            "Epoch 1/10\n",
            "469/469 [==============================] - 41s 87ms/step - loss: 0.3443 - accuracy: 0.8934\n",
            "Epoch 2/10\n",
            "469/469 [==============================] - 41s 88ms/step - loss: 0.1060 - accuracy: 0.9667\n",
            "Epoch 3/10\n",
            "469/469 [==============================] - 41s 87ms/step - loss: 0.0778 - accuracy: 0.9760\n",
            "Epoch 4/10\n",
            "469/469 [==============================] - 41s 88ms/step - loss: 0.0672 - accuracy: 0.9795\n",
            "Epoch 5/10\n",
            "469/469 [==============================] - 41s 87ms/step - loss: 0.0591 - accuracy: 0.9812\n",
            "Epoch 6/10\n",
            "469/469 [==============================] - 41s 87ms/step - loss: 0.0518 - accuracy: 0.9841\n",
            "Epoch 7/10\n",
            "469/469 [==============================] - 41s 88ms/step - loss: 0.0488 - accuracy: 0.9850\n",
            "Epoch 8/10\n",
            "469/469 [==============================] - 41s 88ms/step - loss: 0.0450 - accuracy: 0.9856\n",
            "Epoch 9/10\n",
            "469/469 [==============================] - 41s 87ms/step - loss: 0.0411 - accuracy: 0.9871\n",
            "Epoch 10/10\n",
            "469/469 [==============================] - 41s 88ms/step - loss: 0.0397 - accuracy: 0.9875\n"
          ],
          "name": "stdout"
        },
        {
          "output_type": "execute_result",
          "data": {
            "text/plain": [
              "<tensorflow.python.keras.callbacks.History at 0x7f474a631f60>"
            ]
          },
          "metadata": {
            "tags": []
          },
          "execution_count": 20
        }
      ]
    },
    {
      "cell_type": "code",
      "metadata": {
        "colab": {
          "base_uri": "https://localhost:8080/"
        },
        "id": "LpyhwpsOLenn",
        "outputId": "67aa4234-87d0-4f74-8130-ba3f63548cf8"
      },
      "source": [
        "# PERFORMANCE DO MODELO\r\n",
        "cnn.evaluate(Xteste, yteste, verbose=0) "
      ],
      "execution_count": null,
      "outputs": [
        {
          "output_type": "execute_result",
          "data": {
            "text/plain": [
              "[0.02886911854147911, 0.9904000163078308]"
            ]
          },
          "metadata": {
            "tags": []
          },
          "execution_count": 21
        }
      ]
    },
    {
      "cell_type": "markdown",
      "metadata": {
        "id": "p5vNNCS1Lmj7"
      },
      "source": [
        "--- "
      ]
    },
    {
      "cell_type": "markdown",
      "metadata": {
        "id": "9nORT-H4L-04"
      },
      "source": [
        "## **TRABALHO:** Faça uma comparação de aplicação entre redes neurais tradicionais e redes neurais convolucionais em um dos conjuntos de dados a seguir:\r\n",
        "\r\n",
        "- MNIST\r\n",
        "- [FASHION MNIST](https://www.kaggle.com/zalando-research/fashionmnist) (10 classes na variável resposta, imagens pequenas)\r\n",
        "- [CIFAR10](https://www.kaggle.com/c/cifar-10/overview) (10 classes na variável resposta, imagens médias)\r\n",
        "- [DOG vs CAT](https://www.kaggle.com/c/dogs-vs-cats/data) (2 classes na variável resposta, imagens mais pesadas)\r\n",
        "\r\n",
        "## Procure por arquiteturas que alcancem as melhores performances, documente seus experimentos, justifique suas escolhas e discuta os resultados obtidos. \r\n",
        "\r\n",
        "## Faça o trabalho para ser um projeto do seu portfólio. Descreva, de forma resumida, a história do trabalho. Não é para ser um trabalho extenso, mas sim conciso. O objetivo é comparar uma rede tradicional, com a abordagem via CNN, em algum dos conjuntos de dados listados. Utilize referências que ajudem a chegar em resultados melhores e resuma seus experimentos num relatório.\r\n",
        "\r\n",
        "## Data de entrega: **21/12**."
      ]
    },
    {
      "cell_type": "code",
      "metadata": {
        "id": "G0eHd2VnL_Rb"
      },
      "source": [
        ""
      ],
      "execution_count": null,
      "outputs": []
    }
  ]
}